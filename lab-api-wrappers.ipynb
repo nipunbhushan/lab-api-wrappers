{
 "cells": [
  {
   "cell_type": "markdown",
   "id": "f2938cbc",
   "metadata": {},
   "source": [
    "### Libraries Loading"
   ]
  },
  {
   "cell_type": "code",
   "execution_count": null,
   "id": "db0c7a2b",
   "metadata": {},
   "outputs": [],
   "source": [
    "import spotipy\n",
    "from spotipy.oauth2 import SpotifyClientCredentials\n",
    "from random import randint\n",
    "from time import sleep\n",
    "import pandas as pd\n",
    "\n",
    "import warnings\n",
    "warnings.filterwarnings('ignore')"
   ]
  },
  {
   "cell_type": "markdown",
   "id": "6a07eec3",
   "metadata": {},
   "source": [
    "### Input Variables"
   ]
  },
  {
   "cell_type": "code",
   "execution_count": null,
   "id": "3a69721e",
   "metadata": {},
   "outputs": [],
   "source": [
    "auth_file=\"secrets.txt\"\n",
    "\n",
    "playlist_ids=[\"3LgwHwHUnheGm88n8pDdA7\",\"2JHheevZhehi18oX4t4lXE\",\"1hMzceeWw7QiI6vaBkcEJO\",\n",
    "\"4rnleEAOdmFAbRcNCgZMpY\",\"69fEt9DN5r4JQATi52sRtq\",\"5S8SJdl1BDc0ugpkEvFsIL\",\"7ikZLGjkIILujRBn2GL5bM\",\n",
    "\"37i9dQZF1DX4PP3DA4J0N8\",\"0vvXsWCC9xrXsKd4FyS8kM\",\"4rnleEAOdmFAbRcNCgZMpY\",\"2YRe7HRKNRvXdJBp9nXFza\",\n",
    "\"5xqpyfZyS1DVysoevdVyEn\",\"6yPiKpy7evrwvZodByKvM9\"]"
   ]
  },
  {
   "cell_type": "markdown",
   "id": "70112e71",
   "metadata": {},
   "source": [
    "### Initialization Function"
   ]
  },
  {
   "cell_type": "code",
   "execution_count": null,
   "id": "e66292e5",
   "metadata": {},
   "outputs": [],
   "source": [
    "def init_spotify(auth_file):\n",
    "    secrets_file = open(auth_file,\"r\")\n",
    "    secrets_dict={}\n",
    "    for line in secrets_file.read().split('\\n'):\n",
    "        if len(line) > 0:\n",
    "            secrets_dict[line.split(':')[0]]=line.split(':')[1]\n",
    "    return spotipy.Spotify(auth_manager=SpotifyClientCredentials(client_id=secrets_dict['clientid'],\n",
    "                                                               client_secret=secrets_dict['clientsecret']))"
   ]
  },
  {
   "cell_type": "markdown",
   "id": "f5638565",
   "metadata": {},
   "source": [
    "### Initialize Spotify API object"
   ]
  },
  {
   "cell_type": "code",
   "execution_count": null,
   "id": "ab87dc32",
   "metadata": {},
   "outputs": [],
   "source": [
    "sp=init_spotify(auth_file)"
   ]
  },
  {
   "cell_type": "markdown",
   "id": "d59478ef",
   "metadata": {},
   "source": [
    "### Functions Definition"
   ]
  },
  {
   "cell_type": "code",
   "execution_count": null,
   "id": "6359e6cc",
   "metadata": {},
   "outputs": [],
   "source": [
    "def get_playlist_tracks(playlist_id):\n",
    "    results = sp.user_playlist_tracks(\"spotify\",playlist_id)\n",
    "    tracks = results['items']\n",
    "    cnt=1\n",
    "    while results['next']!=None:\n",
    "        print(\"Retrieving tracks from Page \",cnt,\"..\")\n",
    "        results = sp.next(results)\n",
    "        tracks = tracks + results['items']\n",
    "        cnt+=1\n",
    "        sleep(randint(1,3))\n",
    "    return tracks"
   ]
  },
  {
   "cell_type": "code",
   "execution_count": null,
   "id": "5417ed10",
   "metadata": {},
   "outputs": [],
   "source": [
    "def get_name_artists_href_uri_from_track(track):\n",
    "    return [(track[\"name\"],artist[\"name\"],track[\"href\"],track[\"uri\"]) for artist in track[\"artists\"]]"
   ]
  },
  {
   "cell_type": "code",
   "execution_count": null,
   "id": "f29b3101",
   "metadata": {},
   "outputs": [],
   "source": [
    "def flatten(input_list):\n",
    "    return [item for sublist in input_list for item in sublist]"
   ]
  },
  {
   "cell_type": "code",
   "execution_count": null,
   "id": "9c7a8ad3",
   "metadata": {},
   "outputs": [],
   "source": [
    "def get_name_artists_href_uri_from_list(tracks):\n",
    "    return flatten(list(map(get_name_artists_href_uri_from_track,tracks['items'])))"
   ]
  },
  {
   "cell_type": "code",
   "execution_count": null,
   "id": "31786f87",
   "metadata": {},
   "outputs": [],
   "source": [
    "def get_name_artist_href_uri_from_playlist_item(playlist_item):\n",
    "    return get_name_artists_href_uri_from_track(playlist_item['track'])"
   ]
  },
  {
   "cell_type": "code",
   "execution_count": null,
   "id": "d6ac142d",
   "metadata": {},
   "outputs": [],
   "source": [
    "def get_name_artists_href_uri_from_playlist(input_playlist):\n",
    "    return flatten(list(map(get_name_artist_href_uri_from_playlist_item,input_playlist[\"items\"])))"
   ]
  },
  {
   "cell_type": "markdown",
   "id": "0d6927b5",
   "metadata": {},
   "source": [
    "#### Function to retrieve track info and audio features from playlist track and convert it into a dataframe."
   ]
  },
  {
   "cell_type": "code",
   "execution_count": null,
   "id": "374cc4ea",
   "metadata": {},
   "outputs": [],
   "source": [
    "def get_df_from_all_tracks(all_tracks,save=False):\n",
    "    dict_spotify_info_lst=[]\n",
    "    dict_spotify_audio_feat_lst=[]\n",
    "    progress_cnt=0\n",
    "    print(\"Processed: \",progress_cnt/len(all_tracks),\"%\")\n",
    "    for track in all_tracks:\n",
    "        dict_spotify_info={}\n",
    "        dict_spotify_info['track'],dict_spotify_info['artist'],dict_spotify_info['href'],dict_spotify_info['uri']=get_name_artist_href_uri_from_playlist_item(track)[0]\n",
    "        dict_spotify_audio_feat=sp.audio_features(track['track']['uri'])[0]\n",
    "\n",
    "        if dict_spotify_audio_feat is not None:\n",
    "            dict_spotify_info_lst.append(dict_spotify_info)\n",
    "            dict_spotify_audio_feat_lst.append(dict_spotify_audio_feat)\n",
    "        progress_cnt+=1\n",
    "        if (progress_cnt/len(all_tracks))%10==0:\n",
    "            print(\"Processed: \",progress_cnt/len(all_tracks),\"%\")\n",
    "\n",
    "    df_spotify_info = pd.DataFrame.from_dict(dict_spotify_info_lst)\n",
    "    df_spotify_audio_feat = pd.DataFrame.from_dict(dict_spotify_audio_feat_lst)\n",
    "    \n",
    "    if save:\n",
    "        df_spotify_info.to_csv(\"output_files/df_spotify_info.csv\",index=False)\n",
    "        df_spotify_audio_feat.to_csv(\"output_files/df_spotify_audio_feat.csv\",index=False)\n",
    "        \n",
    "    return df_spotify_info,df_spotify_audio_feat"
   ]
  },
  {
   "cell_type": "markdown",
   "id": "ba1a8105",
   "metadata": {},
   "source": [
    "## Program Execution Block"
   ]
  },
  {
   "cell_type": "markdown",
   "id": "ef930c00",
   "metadata": {},
   "source": [
    "### Get all Playlist Tracks (Track name, Artist)"
   ]
  },
  {
   "cell_type": "code",
   "execution_count": null,
   "id": "f0ac9a4e",
   "metadata": {
    "scrolled": true
   },
   "outputs": [],
   "source": [
    "all_playlist_tracks=[]\n",
    "\n",
    "for playlist_id in playlist_ids:\n",
    "    playlist_tracks = get_playlist_tracks(playlist_id)\n",
    "    all_playlist_tracks = all_playlist_tracks + playlist_tracks"
   ]
  },
  {
   "cell_type": "markdown",
   "id": "232353f3",
   "metadata": {},
   "source": [
    "### Get Track Info and Audio Features of the Playlist Tracks into DataFrames"
   ]
  },
  {
   "cell_type": "code",
   "execution_count": null,
   "id": "40579126",
   "metadata": {},
   "outputs": [],
   "source": [
    "df_spotify_info,df_spotify_audio_feat=get_df_from_all_tracks(all_playlist_tracks,save=True)"
   ]
  },
  {
   "cell_type": "markdown",
   "id": "00d66458",
   "metadata": {},
   "source": [
    "### Drop Duplicates"
   ]
  },
  {
   "cell_type": "code",
   "execution_count": null,
   "id": "7e34f673",
   "metadata": {},
   "outputs": [],
   "source": [
    "df_spotify_info=df_spotify_info.drop_duplicates(subset='uri')\n",
    "df_spotify_audio_feat=df_spotify_audio_feat.drop_duplicates(subset='uri')"
   ]
  },
  {
   "cell_type": "markdown",
   "id": "ea037936",
   "metadata": {},
   "source": [
    "### Save the DatFrames into CSVs"
   ]
  },
  {
   "cell_type": "code",
   "execution_count": null,
   "id": "6d6c64d8",
   "metadata": {},
   "outputs": [],
   "source": [
    "df_spotify_info_copy.to_csv(\"output_files/df_spotify_info.csv\",index=False)\n",
    "df_spotify_audio_feat_copy.to_csv(\"output_files/df_spotify_audio_feat.csv\",index=False)"
   ]
  }
 ],
 "metadata": {
  "kernelspec": {
   "display_name": "Python 3 (ipykernel)",
   "language": "python",
   "name": "python3"
  },
  "language_info": {
   "codemirror_mode": {
    "name": "ipython",
    "version": 3
   },
   "file_extension": ".py",
   "mimetype": "text/x-python",
   "name": "python",
   "nbconvert_exporter": "python",
   "pygments_lexer": "ipython3",
   "version": "3.9.13"
  }
 },
 "nbformat": 4,
 "nbformat_minor": 5
}
